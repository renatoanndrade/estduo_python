{
 "cells": [
  {
   "cell_type": "markdown",
   "metadata": {},
   "source": [
    "[link da aula]([https://www.youtube.com/watch?v=lL9amfaaRws])\n",
    "## 'O que são decoradores? \n",
    "> - São formas de extender uma função ou restringir funcionalidades'\n"
   ]
  },
  {
   "cell_type": "code",
   "execution_count": 1,
   "metadata": {},
   "outputs": [
    {
     "name": "stdout",
     "output_type": "stream",
     "text": [
      "soma demorou 0.0 segundos.\n"
     ]
    },
    {
     "data": {
      "text/plain": [
       "4"
      ]
     },
     "execution_count": 1,
     "metadata": {},
     "output_type": "execute_result"
    }
   ],
   "source": [
    "from time import sleep\n",
    "from medidor_de_tempo import medidor_de_tempo\n",
    "\n",
    "\n",
    "@medidor_de_tempo\n",
    "def delay(secs):\n",
    "    \"\"\"Bota o código para dormir por `secs`.\"\"\"\n",
    "    sleep(secs)\n",
    "    return secs\n",
    "\n",
    "\n",
    "@medidor_de_tempo\n",
    "def soma(x, y):\n",
    "    return x +y\n",
    "\n",
    "soma(3, 1)"
   ]
  },
  {
   "cell_type": "code",
   "execution_count": 14,
   "metadata": {},
   "outputs": [
    {
     "ename": "ImportError",
     "evalue": "cannot import name 'cache' from 'functools' (c:\\Users\\Renato Andrade\\AppData\\Local\\Programs\\Python\\Python38\\lib\\functools.py)",
     "output_type": "error",
     "traceback": [
      "\u001b[1;31m---------------------------------------------------------------------------\u001b[0m",
      "\u001b[1;31mImportError\u001b[0m                               Traceback (most recent call last)",
      "\u001b[1;32m<ipython-input-14-9598626b4f8e>\u001b[0m in \u001b[0;36m<module>\u001b[1;34m\u001b[0m\n\u001b[0;32m      1\u001b[0m \u001b[1;31m#Vai decidir se executa ou não uma função\u001b[0m\u001b[1;33m\u001b[0m\u001b[1;33m\u001b[0m\u001b[1;33m\u001b[0m\u001b[0m\n\u001b[0;32m      2\u001b[0m \u001b[1;31m#funciona só no python 3.9 em diante\u001b[0m\u001b[1;33m\u001b[0m\u001b[1;33m\u001b[0m\u001b[1;33m\u001b[0m\u001b[0m\n\u001b[1;32m----> 3\u001b[1;33m \u001b[1;32mfrom\u001b[0m \u001b[0mfunctools\u001b[0m \u001b[1;32mimport\u001b[0m \u001b[0mcache\u001b[0m\u001b[1;33m\u001b[0m\u001b[1;33m\u001b[0m\u001b[0m\n\u001b[0m\u001b[0;32m      4\u001b[0m \u001b[1;32mfrom\u001b[0m \u001b[0mtime\u001b[0m \u001b[1;32mimport\u001b[0m \u001b[0msleep\u001b[0m\u001b[1;33m\u001b[0m\u001b[1;33m\u001b[0m\u001b[0m\n\u001b[0;32m      5\u001b[0m \u001b[1;32mfrom\u001b[0m \u001b[0mmedidor_de_tempo\u001b[0m \u001b[1;32mimport\u001b[0m \u001b[0mmedidor_de_tempo\u001b[0m\u001b[1;33m\u001b[0m\u001b[1;33m\u001b[0m\u001b[0m\n",
      "\u001b[1;31mImportError\u001b[0m: cannot import name 'cache' from 'functools' (c:\\Users\\Renato Andrade\\AppData\\Local\\Programs\\Python\\Python38\\lib\\functools.py)"
     ]
    }
   ],
   "source": [
    "#Vai decidir se executa ou não uma função\n",
    "#funciona só no python 3.9 em diante\n",
    "from functools import cache\n",
    "from time import sleep\n",
    "from medidor_de_tempo import medidor_de_tempo\n",
    "\n",
    "\n",
    "@cache\n",
    "@medidor_de_tempo\n",
    "def delay(secs):\n",
    "    \"\"\"Bota o código para dormir por `secs`.\"\"\"\n",
    "    sleep(secs)\n",
    "    return secs\n",
    "\n",
    "\n",
    "print(delay(5), delay(5), delay(5))"
   ]
  },
  {
   "cell_type": "code",
   "execution_count": 13,
   "metadata": {},
   "outputs": [
    {
     "data": {
      "text/plain": [
       "11"
      ]
     },
     "execution_count": 13,
     "metadata": {},
     "output_type": "execute_result"
    }
   ],
   "source": [
    "soma = lambda x, y: x+y\n",
    "sub = lambda x, y: x+y\n",
    "mul = lambda x, y: x+y\n",
    "div = lambda x, y: x+y\n",
    "\n",
    "def calculadora(op, x, y):\n",
    "    operações = {\n",
    "        '+': soma,\n",
    "        '-': sub,\n",
    "        '*': mul,\n",
    "        '/': div\n",
    "    }\n",
    "    return operações[op](x, y)\n",
    "calculadora('+', 3,2)"
   ]
  },
  {
   "cell_type": "code",
   "execution_count": 16,
   "metadata": {},
   "outputs": [
    {
     "data": {
      "text/plain": [
       "15"
      ]
     },
     "execution_count": 16,
     "metadata": {},
     "output_type": "execute_result"
    }
   ],
   "source": [
    "from functools import reduce\n",
    "\n",
    "soma = lambda x, y: x+y\n",
    "\n",
    "resultado = reduce(soma, [1,2,3,4,5])\n",
    "resultado"
   ]
  },
  {
   "cell_type": "code",
   "execution_count": 22,
   "metadata": {},
   "outputs": [
    {
     "name": "stdout",
     "output_type": "stream",
     "text": [
      "otaner\n"
     ]
    },
    {
     "data": {
      "text/plain": [
       "['estar', 'vazar', 'ser', 'cair', 'sair']"
      ]
     },
     "execution_count": 22,
     "metadata": {},
     "output_type": "execute_result"
    }
   ],
   "source": [
    "print('renato'[::-1])\n",
    "\n",
    "# rimas, esta verificando a ordem das palavras de tras pra frente\n",
    "palavras = ['sair', 'cair', 'vazar', 'ser', 'estar']\n",
    "inverte = lambda palavra: palavra[::-1]\n",
    "sorted(palavras, key = inverte)\n",
    "\n"
   ]
  },
  {
   "cell_type": "code",
   "execution_count": 23,
   "metadata": {},
   "outputs": [
    {
     "data": {
      "text/plain": [
       "3"
      ]
     },
     "execution_count": 23,
     "metadata": {},
     "output_type": "execute_result"
    }
   ],
   "source": [
    "# uma função que roda 2 vezes\n",
    "aplica_2_vezes = lambda func, x: func(func(x))\n",
    "soma1 = lambda x: x+1\n",
    "aplica_2_vezes(soma1, 1)"
   ]
  },
  {
   "cell_type": "code",
   "execution_count": 32,
   "metadata": {},
   "outputs": [
    {
     "name": "stdout",
     "output_type": "stream",
     "text": [
      "5\n",
      "9\n"
     ]
    }
   ],
   "source": [
    "aplica_2_vezes = lambda func2, func1, x: func2(func1(x))\n",
    "soma_1 = lambda x: x+1\n",
    "raiz_q = lambda x: x**2\n",
    "\n",
    "#executou a raiz e depois a soma\n",
    "print(aplica_2_vezes(soma1, raiz_q, 2))\n",
    "\n",
    "#executou a soma e depois a raiz\n",
    "print(aplica_2_vezes(raiz_q, soma_1, 2))"
   ]
  },
  {
   "cell_type": "code",
   "execution_count": 33,
   "metadata": {},
   "outputs": [
    {
     "name": "stdout",
     "output_type": "stream",
     "text": [
      "11\n",
      "21\n"
     ]
    }
   ],
   "source": [
    "# partial, é uma função que retorna outra função\n",
    "from functools import partial\n",
    "\n",
    "def soma(x, y):\n",
    "    return x + y\n",
    "\n",
    "soma_1 = partial(soma, 1)\n",
    "soma_10 = partial(soma, 10)\n",
    "\n",
    "print(soma_1(10))  # 11\n",
    "print(soma_10(11))  # 21"
   ]
  },
  {
   "cell_type": "code",
   "execution_count": 34,
   "metadata": {},
   "outputs": [
    {
     "name": "stdout",
     "output_type": "stream",
     "text": [
      "[2, 4, 6]\n",
      "[1, 4, 9]\n"
     ]
    }
   ],
   "source": [
    "\n",
    "def soma(x, y):\n",
    "    return x + y\n",
    "\n",
    "def mul(x, y):\n",
    "    return x * y\n",
    "\n",
    "\n",
    "def zip_with(func, iter_a, iter_b):\n",
    "    return list(map(func, iter_a, iter_b))\n",
    "\n",
    "# Aqui tá somando valor do vetor 1 pelo vetor 2\n",
    "print(zip_with(soma, [1, 2, 3], [1, 2, 3]))\n",
    "# [2, 4, 6]\n",
    "\n",
    "# Aqui tá multiplicando valor do vetor 1 pelo vetor 2\n",
    "print(zip_with(mul, [1, 2, 3], [1, 2, 3]))"
   ]
  },
  {
   "cell_type": "code",
   "execution_count": 35,
   "metadata": {},
   "outputs": [
    {
     "name": "stdout",
     "output_type": "stream",
     "text": [
      "[2, 4, 6]\n",
      "[1, 4, 9]\n"
     ]
    }
   ],
   "source": [
    "from functools import partial\n",
    "\n",
    "def soma(x, y):\n",
    "    return x + y\n",
    "\n",
    "def mul(x, y):\n",
    "    return x * y\n",
    "\n",
    "def zip_with_2(func):\n",
    "    return partial(map, func)\n",
    "\n",
    "zip_soma = zip_with_2(soma)\n",
    "zip_mul = zip_with_2(mul)\n",
    "\n",
    "print(list(\n",
    "    zip_soma([1, 2, 3], [1, 2, 3])\n",
    "))  # [2, 4, 6]\n",
    "print(list(\n",
    "    zip_mul([1, 2, 3], [1, 2, 3])\n",
    "))  # [1, 4, 9]"
   ]
  },
  {
   "cell_type": "code",
   "execution_count": 36,
   "metadata": {},
   "outputs": [
    {
     "name": "stdout",
     "output_type": "stream",
     "text": [
      "Olá Marilene. A noite, tainha, vinho e muito ...\n"
     ]
    }
   ],
   "source": [
    "# Funcoes aninhadas\n",
    "def ola(nome):\n",
    "\n",
    "    def func_interna(nome):\n",
    "        if nome.lower() == 'marilene':\n",
    "            print(f'Olá {nome}. A noite, tainha, vinho e muito ...')\n",
    "        else:\n",
    "            print(f'Olá {nome}, boas vindas!')\n",
    "\n",
    "    func_interna(nome)\n",
    "\n",
    "\n",
    "ola('Marilene')"
   ]
  },
  {
   "cell_type": "code",
   "execution_count": 40,
   "metadata": {},
   "outputs": [
    {
     "name": "stdout",
     "output_type": "stream",
     "text": [
      "Sunda\n"
     ]
    }
   ],
   "source": [
    "# * Esse asterisco serve para pegar o vetor inteiro em vez de só o numero. Evita o for\n",
    "# Isso evitar colocar os FOR fora da fora da função\n",
    "def norm(*palavras):\n",
    "    return palavras[1]\n",
    "\n",
    "print(norm('Erico', \"Sunda\"))"
   ]
  },
  {
   "cell_type": "code",
   "execution_count": null,
   "metadata": {},
   "outputs": [],
   "source": []
  }
 ],
 "metadata": {
  "kernelspec": {
   "display_name": "Python 3.8.7 64-bit",
   "language": "python",
   "name": "python3"
  },
  "language_info": {
   "codemirror_mode": {
    "name": "ipython",
    "version": 3
   },
   "file_extension": ".py",
   "mimetype": "text/x-python",
   "name": "python",
   "nbconvert_exporter": "python",
   "pygments_lexer": "ipython3",
   "version": "3.8.7"
  },
  "orig_nbformat": 4,
  "vscode": {
   "interpreter": {
    "hash": "c87cfe4c107c91d3427f44f1147db2a5b76fe7794a575ac4c74cc7f6ffba11c6"
   }
  }
 },
 "nbformat": 4,
 "nbformat_minor": 2
}
